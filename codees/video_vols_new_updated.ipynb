{
 "cells": [
  {
   "cell_type": "code",
   "execution_count": 1,
   "id": "3c49f237-4db3-437c-889e-c256c864ecde",
   "metadata": {
    "tags": []
   },
   "outputs": [],
   "source": [
    "import cv2\n",
    "import os\n",
    "import numpy as np"
   ]
  },
  {
   "cell_type": "code",
   "execution_count": 2,
   "id": "06bb5fa3-b45e-4bd1-8c35-f432ae4d1614",
   "metadata": {
    "tags": []
   },
   "outputs": [],
   "source": [
    "def extract_overlapping_patches(frame, patch_size=128, stride=32):\n",
    "    patches = []\n",
    "    coords = []\n",
    "    h, w = frame.shape[:2]\n",
    "    for y in range(0, h - patch_size + 1, stride):\n",
    "        for x in range(0, w - patch_size + 1, stride):\n",
    "            patch = frame[y:y+patch_size, x:x+patch_size]\n",
    "            patches.append(patch)\n",
    "            coords.append((y, x))\n",
    "    return patches, coords"
   ]
  },
  {
   "cell_type": "code",
   "execution_count": 3,
   "id": "f8e5d8d2-3422-431f-85d5-0028e24e6bf9",
   "metadata": {
    "tags": []
   },
   "outputs": [],
   "source": [
    "def create_video_volumes(video_path, output_folder, patch_size=128, volume_frames=10, spatial_stride=32, temporal_stride=10):\n",
    "    cap = cv2.VideoCapture(video_path)\n",
    "    if not cap.isOpened():\n",
    "        raise ValueError(f\"Error: Could not open video file: {video_path}\")\n",
    "    \n",
    "    os.makedirs(output_folder, exist_ok=True)\n",
    "\n",
    "    frames = []\n",
    "    while True:\n",
    "        ret, frame = cap.read()\n",
    "        if not ret:\n",
    "            break\n",
    "        frames.append(frame)\n",
    "    \n",
    "    cap.release()\n",
    "\n",
    "    # Pad frames so total frames % temporal_stride == 0\n",
    "    while len(frames) % temporal_stride != 0:\n",
    "        frames.append(np.zeros_like(frames[0]))\n",
    "\n",
    "    num_vols = 0\n",
    "    for t in range(0, len(frames) - volume_frames + 1, temporal_stride):\n",
    "        patch_lists = []\n",
    "        for i in range(volume_frames):\n",
    "            patches, coords = extract_overlapping_patches(frames[t + i], patch_size, spatial_stride)\n",
    "            patch_lists.append(patches)\n",
    "\n",
    "        num_patches = len(patch_lists[0])\n",
    "        for patch_idx in range(num_patches):\n",
    "            volume = np.stack([patch_lists[f][patch_idx] for f in range(volume_frames)], axis=0)\n",
    "            volume_folder = os.path.join(output_folder, f'volume_{num_vols:05d}_{patch_idx:04d}')\n",
    "            os.makedirs(volume_folder, exist_ok=True)\n",
    "            for f_idx in range(volume_frames):\n",
    "                filename = os.path.join(volume_folder, f'frame_{f_idx:04d}.png')\n",
    "                cv2.imwrite(filename, volume[f_idx])\n",
    "        num_vols += 1\n",
    "\n",
    "    print(f\"✅ Created video volumes in: {output_folder}\")"
   ]
  },
  {
   "cell_type": "code",
   "execution_count": 4,
   "id": "21ff66c3-418b-429a-9f1b-ffa5d3640bfc",
   "metadata": {
    "tags": []
   },
   "outputs": [
    {
     "name": "stdout",
     "output_type": "stream",
     "text": [
      "✅ Created video volumes in: C:\\Users\\hci\\Desktop\\data_new1\\V1\\video_volumes\n"
     ]
    }
   ],
   "source": [
    "video_path = \"C:\\\\Users\\\\hci\\\\Desktop\\\\data_test\\\\01.avi\"\n",
    "output_folder = \"C:\\\\Users\\\\hci\\\\Desktop\\\\data_new1\\\\V1\\\\video_volumes\"\n",
    "\n",
    "create_video_volumes(video_path, output_folder)"
   ]
  },
  {
   "cell_type": "code",
   "execution_count": 5,
   "id": "a271267c-7e05-470e-932f-7c7d0584c8fc",
   "metadata": {
    "tags": []
   },
   "outputs": [
    {
     "name": "stdout",
     "output_type": "stream",
     "text": [
      "✅ Created video volumes in: C:\\Users\\hci\\Desktop\\data_new1\\V2\\video_volumes\n"
     ]
    }
   ],
   "source": [
    "video_path = \"C:\\\\Users\\\\hci\\\\Desktop\\\\data_test\\\\02.avi\"\n",
    "output_folder = \"C:\\\\Users\\\\hci\\\\Desktop\\\\data_new1\\\\V2\\\\video_volumes\"\n",
    "\n",
    "create_video_volumes(video_path, output_folder)"
   ]
  },
  {
   "cell_type": "code",
   "execution_count": 6,
   "id": "20489f27-fa41-427b-a564-e8f4f4656293",
   "metadata": {
    "tags": []
   },
   "outputs": [
    {
     "name": "stdout",
     "output_type": "stream",
     "text": [
      "✅ Created video volumes in: C:\\Users\\hci\\Desktop\\data_new1\\V3\\video_volumes\n"
     ]
    }
   ],
   "source": [
    "video_path = \"C:\\\\Users\\\\hci\\\\Desktop\\\\data_test\\\\03.avi\"\n",
    "output_folder = \"C:\\\\Users\\\\hci\\\\Desktop\\\\data_new1\\\\V3\\\\video_volumes\" \n",
    "\n",
    "create_video_volumes(video_path, output_folder)"
   ]
  },
  {
   "cell_type": "code",
   "execution_count": 7,
   "id": "07e92c5e-4e84-46a0-9fcf-0c234c69a0e9",
   "metadata": {
    "tags": []
   },
   "outputs": [
    {
     "name": "stdout",
     "output_type": "stream",
     "text": [
      "✅ Created video volumes in: C:\\Users\\hci\\Desktop\\data_new1\\V4\\video_volumes\n"
     ]
    }
   ],
   "source": [
    "video_path = \"C:\\\\Users\\\\hci\\\\Desktop\\\\data_test\\\\04.avi\"\n",
    "output_folder = \"C:\\\\Users\\\\hci\\\\Desktop\\\\data_new1\\\\V4\\\\video_volumes\"\n",
    "\n",
    "create_video_volumes(video_path, output_folder)"
   ]
  },
  {
   "cell_type": "code",
   "execution_count": 8,
   "id": "8d109047-50c1-47f9-9ec8-2b564e61f3b7",
   "metadata": {
    "tags": []
   },
   "outputs": [
    {
     "name": "stdout",
     "output_type": "stream",
     "text": [
      "✅ Created video volumes in: C:\\Users\\hci\\Desktop\\data_new1\\V5\\video_volumes\n"
     ]
    }
   ],
   "source": [
    "video_path = \"C:\\\\Users\\\\hci\\\\Desktop\\\\data_test\\\\05.avi\"\n",
    "output_folder = \"C:\\\\Users\\\\hci\\\\Desktop\\\\data_new1\\\\V5\\\\video_volumes\"\n",
    "\n",
    "create_video_volumes(video_path, output_folder)"
   ]
  },
  {
   "cell_type": "code",
   "execution_count": 9,
   "id": "bc5ae8cc-0afe-4d50-b735-71d5a80b2bb9",
   "metadata": {
    "tags": []
   },
   "outputs": [
    {
     "name": "stdout",
     "output_type": "stream",
     "text": [
      "✅ Created video volumes in: C:\\Users\\hci\\Desktop\\data_new1\\V6\\video_volumes\n"
     ]
    }
   ],
   "source": [
    "video_path = \"C:\\\\Users\\\\hci\\\\Desktop\\\\data_test\\\\06.avi\"\n",
    "output_folder = \"C:\\\\Users\\\\hci\\\\Desktop\\\\data_new1\\\\V6\\\\video_volumes\"\n",
    "\n",
    "create_video_volumes(video_path, output_folder)"
   ]
  },
  {
   "cell_type": "code",
   "execution_count": 10,
   "id": "0e4e5b28-b0e1-443b-9410-4077637a4af6",
   "metadata": {
    "tags": []
   },
   "outputs": [
    {
     "name": "stdout",
     "output_type": "stream",
     "text": [
      "✅ Created video volumes in: C:\\Users\\hci\\Desktop\\data_new1\\V7\\video_volumes\n"
     ]
    }
   ],
   "source": [
    "video_path = \"C:\\\\Users\\\\hci\\\\Desktop\\\\data_test\\\\07.avi\"\n",
    "output_folder = \"C:\\\\Users\\\\hci\\\\Desktop\\\\data_new1\\\\V7\\\\video_volumes\"\n",
    "\n",
    "create_video_volumes(video_path, output_folder)"
   ]
  },
  {
   "cell_type": "code",
   "execution_count": 11,
   "id": "2f4f73af-d739-46c2-b717-3479dde16997",
   "metadata": {
    "tags": []
   },
   "outputs": [
    {
     "name": "stdout",
     "output_type": "stream",
     "text": [
      "✅ Created video volumes in: C:\\Users\\hci\\Desktop\\data_new1\\V8\\video_volumes\n"
     ]
    }
   ],
   "source": [
    "video_path = \"C:\\\\Users\\\\hci\\\\Desktop\\\\data_test\\\\08.avi\"\n",
    "output_folder = \"C:\\\\Users\\\\hci\\\\Desktop\\\\data_new1\\\\V8\\\\video_volumes\"\n",
    "\n",
    "create_video_volumes(video_path, output_folder)"
   ]
  },
  {
   "cell_type": "code",
   "execution_count": 12,
   "id": "e41d3c0a-b89e-4c28-872c-ee0448eb4337",
   "metadata": {
    "tags": []
   },
   "outputs": [
    {
     "name": "stdout",
     "output_type": "stream",
     "text": [
      "✅ Created video volumes in: C:\\Users\\hci\\Desktop\\data_new1\\V9\\video_volumes\n"
     ]
    }
   ],
   "source": [
    "video_path = \"C:\\\\Users\\\\hci\\\\Desktop\\\\data_test\\\\09.avi\"\n",
    "output_folder = \"C:\\\\Users\\\\hci\\\\Desktop\\\\data_new1\\\\V9\\\\video_volumes\"\n",
    "\n",
    "create_video_volumes(video_path, output_folder)"
   ]
  },
  {
   "cell_type": "code",
   "execution_count": 13,
   "id": "f0d993c7-e65c-4c6f-b315-2ae701dd67d9",
   "metadata": {
    "tags": []
   },
   "outputs": [
    {
     "name": "stdout",
     "output_type": "stream",
     "text": [
      "✅ Created video volumes in: C:\\Users\\hci\\Desktop\\data_new1\\V10\\video_volumes\n"
     ]
    }
   ],
   "source": [
    "video_path = \"C:\\\\Users\\\\hci\\\\Desktop\\\\data_test\\\\10.avi\"\n",
    "output_folder = \"C:\\\\Users\\\\hci\\\\Desktop\\\\data_new1\\\\V10\\\\video_volumes\"\n",
    "\n",
    "create_video_volumes(video_path, output_folder)"
   ]
  },
  {
   "cell_type": "code",
   "execution_count": 14,
   "id": "4d305c73-50c4-46d5-8f51-d7b8baeaeb52",
   "metadata": {
    "tags": []
   },
   "outputs": [
    {
     "name": "stdout",
     "output_type": "stream",
     "text": [
      "✅ Created video volumes in: C:\\Users\\hci\\Desktop\\data_new1\\V11\\video_volumes\n"
     ]
    }
   ],
   "source": [
    "video_path = \"C:\\\\Users\\\\hci\\\\Desktop\\\\data_test\\\\11.avi\"\n",
    "output_folder = \"C:\\\\Users\\\\hci\\\\Desktop\\\\data_new1\\\\V11\\\\video_volumes\"\n",
    "\n",
    "create_video_volumes(video_path, output_folder)"
   ]
  },
  {
   "cell_type": "code",
   "execution_count": 15,
   "id": "43e80beb-a03a-437e-a76c-a9ad638d2d48",
   "metadata": {
    "tags": []
   },
   "outputs": [
    {
     "name": "stdout",
     "output_type": "stream",
     "text": [
      "✅ Created video volumes in: C:\\Users\\hci\\Desktop\\data_new1\\V12\\video_volumes\n"
     ]
    }
   ],
   "source": [
    "video_path = \"C:\\\\Users\\\\hci\\\\Desktop\\\\data_test\\\\12.avi\"\n",
    "output_folder = \"C:\\\\Users\\\\hci\\\\Desktop\\\\data_new1\\\\V12\\\\video_volumes\"\n",
    "\n",
    "create_video_volumes(video_path, output_folder)"
   ]
  },
  {
   "cell_type": "code",
   "execution_count": 16,
   "id": "ed4bbd00-31b6-49bc-a271-756c79756d1e",
   "metadata": {
    "tags": []
   },
   "outputs": [
    {
     "name": "stdout",
     "output_type": "stream",
     "text": [
      "✅ Created video volumes in: C:\\Users\\hci\\Desktop\\data_new1\\V13\\video_volumes\n"
     ]
    }
   ],
   "source": [
    "video_path = \"C:\\\\Users\\\\hci\\\\Desktop\\\\data_test\\\\13.avi\"\n",
    "output_folder = \"C:\\\\Users\\\\hci\\\\Desktop\\\\data_new1\\\\V13\\\\video_volumes\"\n",
    "\n",
    "create_video_volumes(video_path, output_folder)"
   ]
  },
  {
   "cell_type": "code",
   "execution_count": 17,
   "id": "c914a927-8408-43d4-9266-3b47c5bc103f",
   "metadata": {
    "tags": []
   },
   "outputs": [
    {
     "name": "stdout",
     "output_type": "stream",
     "text": [
      "✅ Created video volumes in: C:\\Users\\hci\\Desktop\\data_new1\\V14\\video_volumes\n"
     ]
    }
   ],
   "source": [
    "video_path = \"C:\\\\Users\\\\hci\\\\Desktop\\\\data_test\\\\14.avi\"\n",
    "output_folder = \"C:\\\\Users\\\\hci\\\\Desktop\\\\data_new1\\\\V14\\\\video_volumes\"\n",
    "\n",
    "create_video_volumes(video_path, output_folder)"
   ]
  },
  {
   "cell_type": "code",
   "execution_count": 18,
   "id": "85188627-c5fd-4820-a024-c5792190d6c7",
   "metadata": {
    "tags": []
   },
   "outputs": [
    {
     "name": "stdout",
     "output_type": "stream",
     "text": [
      "✅ Created video volumes in: C:\\Users\\hci\\Desktop\\data_new1\\V15\\video_volumes\n"
     ]
    }
   ],
   "source": [
    "video_path = \"C:\\\\Users\\\\hci\\\\Desktop\\\\data_test\\\\15.avi\"\n",
    "output_folder = \"C:\\\\Users\\\\hci\\\\Desktop\\\\data_new1\\\\V15\\\\video_volumes\"\n",
    "\n",
    "create_video_volumes(video_path, output_folder)"
   ]
  },
  {
   "cell_type": "code",
   "execution_count": 19,
   "id": "df383f47-b2ad-4b0c-9297-5f820ff70160",
   "metadata": {
    "tags": []
   },
   "outputs": [
    {
     "name": "stdout",
     "output_type": "stream",
     "text": [
      "✅ Created video volumes in: C:\\Users\\hci\\Desktop\\data_new1\\V16\\video_volumes\n"
     ]
    }
   ],
   "source": [
    "video_path = \"C:\\\\Users\\\\hci\\\\Desktop\\\\data_test\\\\16.avi\"\n",
    "output_folder = \"C:\\\\Users\\\\hci\\\\Desktop\\\\data_new1\\\\V16\\\\video_volumes\"\n",
    "\n",
    "create_video_volumes(video_path, output_folder)"
   ]
  },
  {
   "cell_type": "code",
   "execution_count": 20,
   "id": "822428a8-9d9a-42d9-9a52-213c3678ed7b",
   "metadata": {},
   "outputs": [
    {
     "name": "stdout",
     "output_type": "stream",
     "text": [
      "✅ Created video volumes in: C:\\Users\\hci\\Desktop\\data_new1\\V17\\video_volumes\n"
     ]
    }
   ],
   "source": [
    "video_path = \"C:\\\\Users\\\\hci\\\\Desktop\\\\data_test\\\\17.avi\"\n",
    "output_folder = \"C:\\\\Users\\\\hci\\\\Desktop\\\\data_new1\\\\V17\\\\video_volumes\"\n",
    "\n",
    "create_video_volumes(video_path, output_folder)"
   ]
  },
  {
   "cell_type": "code",
   "execution_count": 21,
   "id": "359bd2a7-2cf8-4fde-a6de-e4bdb0d48495",
   "metadata": {
    "tags": []
   },
   "outputs": [
    {
     "name": "stdout",
     "output_type": "stream",
     "text": [
      "✅ Created video volumes in: C:\\Users\\hci\\Desktop\\data_new1\\V18\\video_volumes\n"
     ]
    }
   ],
   "source": [
    "video_path = \"C:\\\\Users\\\\hci\\\\Desktop\\\\data_test\\\\18.avi\"\n",
    "output_folder = \"C:\\\\Users\\\\hci\\\\Desktop\\\\data_new1\\\\V18\\\\video_volumes\"\n",
    "\n",
    "create_video_volumes(video_path, output_folder)"
   ]
  },
  {
   "cell_type": "code",
   "execution_count": 22,
   "id": "27901bd9-b7d1-44b3-8661-13b49f8c3bde",
   "metadata": {
    "tags": []
   },
   "outputs": [
    {
     "name": "stdout",
     "output_type": "stream",
     "text": [
      "✅ Created video volumes in: C:\\Users\\hci\\Desktop\\data_new1\\V19\\video_volumes\n"
     ]
    }
   ],
   "source": [
    "video_path = \"C:\\\\Users\\\\hci\\\\Desktop\\\\data_test\\\\19.avi\"\n",
    "output_folder = \"C:\\\\Users\\\\hci\\\\Desktop\\\\data_new1\\\\V19\\\\video_volumes\"\n",
    "\n",
    "create_video_volumes(video_path, output_folder)"
   ]
  },
  {
   "cell_type": "code",
   "execution_count": 23,
   "id": "a19640ae-eef4-4c4b-bace-088d698a855b",
   "metadata": {
    "tags": []
   },
   "outputs": [
    {
     "name": "stdout",
     "output_type": "stream",
     "text": [
      "✅ Created video volumes in: C:\\Users\\hci\\Desktop\\data_new1\\V20\\video_volumes\n"
     ]
    }
   ],
   "source": [
    "video_path = \"C:\\\\Users\\\\hci\\\\Desktop\\\\data_test\\\\20.avi\"\n",
    "output_folder = \"C:\\\\Users\\\\hci\\\\Desktop\\\\data_new1\\\\V20\\\\video_volumes\"\n",
    "\n",
    "create_video_volumes(video_path, output_folder)"
   ]
  },
  {
   "cell_type": "code",
   "execution_count": 24,
   "id": "fda03c71-4f85-466d-9f31-0bae391c1b18",
   "metadata": {
    "tags": []
   },
   "outputs": [
    {
     "name": "stdout",
     "output_type": "stream",
     "text": [
      "✅ Created video volumes in: C:\\Users\\hci\\Desktop\\data_new1\\V21\\video_volumes\n"
     ]
    }
   ],
   "source": [
    "video_path = \"C:\\\\Users\\\\hci\\\\Desktop\\\\data_test\\\\21.avi\"\n",
    "output_folder = \"C:\\\\Users\\\\hci\\\\Desktop\\\\data_new1\\\\V21\\\\video_volumes\"\n",
    "\n",
    "create_video_volumes(video_path, output_folder)"
   ]
  },
  {
   "cell_type": "code",
   "execution_count": null,
   "id": "6aa011a4-628f-445e-b9d2-03809c529654",
   "metadata": {},
   "outputs": [],
   "source": []
  },
  {
   "cell_type": "code",
   "execution_count": null,
   "id": "34b49a2b-7385-486f-8775-701ade151c17",
   "metadata": {},
   "outputs": [],
   "source": []
  }
 ],
 "metadata": {
  "kernelspec": {
   "display_name": "Python 3 (ipykernel)",
   "language": "python",
   "name": "python3"
  },
  "language_info": {
   "codemirror_mode": {
    "name": "ipython",
    "version": 3
   },
   "file_extension": ".py",
   "mimetype": "text/x-python",
   "name": "python",
   "nbconvert_exporter": "python",
   "pygments_lexer": "ipython3",
   "version": "3.11.5"
  }
 },
 "nbformat": 4,
 "nbformat_minor": 5
}
