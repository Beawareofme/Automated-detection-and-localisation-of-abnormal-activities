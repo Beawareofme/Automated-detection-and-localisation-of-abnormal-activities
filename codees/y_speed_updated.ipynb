{
 "cells": [
  {
   "cell_type": "code",
   "execution_count": 1,
   "id": "bc652d6e-37c2-4130-a5d3-166f7dc61cbf",
   "metadata": {
    "tags": []
   },
   "outputs": [
    {
     "name": "stdout",
     "output_type": "stream",
     "text": [
      "Using device: cuda\n"
     ]
    }
   ],
   "source": [
    "import os\n",
    "import numpy as np\n",
    "import pandas as pd\n",
    "import cv2\n",
    "import torch\n",
    "import torch.nn as nn\n",
    "import torch.optim as optim\n",
    "from torch.utils.data import DataLoader, TensorDataset, random_split\n",
    "from tqdm import tqdm\n",
    "\n",
    "# ==== CONFIGURATION ====\n",
    "device = torch.device('cuda' if torch.cuda.is_available() else 'cpu')\n",
    "torch.cuda.empty_cache()\n",
    "print(f\"Using device: {device}\")\n",
    "\n",
    "PATCH_SIZE = 64  # As per paper\n",
    "NUM_FRAMES = 10\n",
    "NUM_BINS = 12"
   ]
  },
  {
   "cell_type": "code",
   "execution_count": 2,
   "id": "12acac4c-f45f-48e8-bbbd-cc3af7d768b5",
   "metadata": {
    "tags": []
   },
   "outputs": [],
   "source": [
    "# ==== Y_SPEED VECTOR COMPUTATION ====\n",
    "def compute_ground_truth_speed(optical_flows, num_bins=12):\n",
    "    speed_vectors = []\n",
    "    for flow in optical_flows:\n",
    "        flow_x = flow[..., 0]\n",
    "        flow_y = flow[..., 1]\n",
    "        mag, ang = cv2.cartToPolar(flow_x.astype(np.float32), flow_y.astype(np.float32))\n",
    "        hist = np.zeros(num_bins)\n",
    "        bin_edges = np.linspace(0, 2 * np.pi, num_bins + 1)\n",
    "        for i in range(num_bins):\n",
    "            bin_mask = (ang >= bin_edges[i]) & (ang < bin_edges[i + 1])\n",
    "            if np.sum(bin_mask) > 0:\n",
    "                hist[i] = np.mean(mag[bin_mask])\n",
    "        speed_vectors.append(hist)\n",
    "    return np.mean(speed_vectors, axis=0)"
   ]
  },
  {
   "cell_type": "code",
   "execution_count": 3,
   "id": "f17ee374-d43f-4e73-a3de-958d1ada520d",
   "metadata": {
    "tags": []
   },
   "outputs": [],
   "source": [
    "from tqdm import tqdm\n",
    "\n",
    "# Updated with inline progress print during volume collection\n",
    "def load_data_from_directory_with_debug(base_dir):\n",
    "    video_volumes = []\n",
    "    speed_vectors = []\n",
    "\n",
    "    all_volume_paths = []\n",
    "    print(f\"🔍 Scanning base directory: {base_dir}\")\n",
    "    for subdir in sorted(os.listdir(base_dir)):\n",
    "        sub_path = os.path.join(base_dir, subdir)\n",
    "        video_path = os.path.join(sub_path, \"video_volumes\")\n",
    "        flow_path = os.path.join(sub_path, \"optical_flows\")\n",
    "\n",
    "        if not os.path.isdir(video_path) or not os.path.isdir(flow_path):\n",
    "            print(f\"⚠️ Skipping {subdir}: Missing video_volumes or optical_flows folder.\")\n",
    "            continue\n",
    "\n",
    "        print(f\"⏳ Collecting volume paths in {subdir}...\")\n",
    "        for vol_folder in sorted(os.listdir(video_path)):\n",
    "            vol_full_path = os.path.join(video_path, vol_folder)\n",
    "            flow_folder_path = os.path.join(flow_path, vol_folder)\n",
    "            if os.path.isdir(vol_full_path) and os.path.isdir(flow_folder_path):\n",
    "                all_volume_paths.append((vol_full_path, flow_folder_path))\n",
    "\n",
    "    print(f\"✅ Total volumes to load: {len(all_volume_paths)}\")\n",
    "\n",
    "    for vol_full_path, flow_folder in tqdm(all_volume_paths, desc=\"📥 Loading volumes\"):\n",
    "        frames = []\n",
    "        for i in range(NUM_FRAMES):\n",
    "            frame_path = os.path.join(vol_full_path, f\"frame_{i:04d}.png\")\n",
    "            img = cv2.imread(frame_path)\n",
    "            if img is None:\n",
    "                print(f\"⚠️ Skipped volume {vol_full_path}: Missing frame {i}\")\n",
    "                frames = []\n",
    "                break\n",
    "            img = cv2.resize(img, (PATCH_SIZE, PATCH_SIZE))\n",
    "            frames.append(img)\n",
    "\n",
    "        if len(frames) == NUM_FRAMES:\n",
    "            video_volumes.append(np.stack(frames, axis=0))\n",
    "\n",
    "        flows = []\n",
    "        for i in range(NUM_FRAMES - 1):\n",
    "            flow_path_i = os.path.join(flow_folder, f\"flow_raw_{i:04d}.npy\")\n",
    "            if not os.path.exists(flow_path_i):\n",
    "                print(f\"⚠️ Missing flow file: {flow_path_i}\")\n",
    "                flows = []\n",
    "                break\n",
    "            flow = np.load(flow_path_i)\n",
    "            flow = cv2.resize(flow, (PATCH_SIZE, PATCH_SIZE))\n",
    "            flows.append(flow)\n",
    "\n",
    "        if len(flows) == NUM_FRAMES - 1:\n",
    "            speed_vector = compute_ground_truth_speed(flows, NUM_BINS)\n",
    "            speed_vectors.append(speed_vector)\n",
    "\n",
    "    if not video_volumes or not speed_vectors:\n",
    "        raise ValueError(\"🚫 No valid video volumes or speed vectors were found.\")\n",
    "\n",
    "    X = np.stack(video_volumes)  # (N, 10, H, W, C)\n",
    "    X = X.transpose(0, 4, 1, 2, 3)  # (N, C, T, H, W)\n",
    "    Y = np.stack(speed_vectors)    # (N, 12)\n",
    "\n",
    "    print(f\"✅ Loaded {len(X)} video volumes and {len(Y)} Y_speed vectors.\")\n",
    "    return torch.tensor(X, dtype=torch.float32), torch.tensor(Y, dtype=torch.float32)\n"
   ]
  },
  {
   "cell_type": "code",
   "execution_count": 4,
   "id": "580bf3a2-8da7-4e41-8b07-22a9dd277838",
   "metadata": {
    "tags": []
   },
   "outputs": [],
   "source": [
    "# ==== MODEL DEFINITION ====\n",
    "class YSpeedModel(nn.Module):\n",
    "    def __init__(self):\n",
    "        super(YSpeedModel, self).__init__()\n",
    "        self.conv1 = nn.Conv3d(3, 32, kernel_size=(5,5,5), padding=2)\n",
    "        self.bn1 = nn.BatchNorm3d(32)\n",
    "        self.relu1 = nn.ReLU()\n",
    "        self.pool1 = nn.MaxPool3d(kernel_size=(1,2,2), stride=(1,2,2))\n",
    "\n",
    "        self.conv2 = nn.Conv3d(32, 64, kernel_size=3, padding=1)\n",
    "        self.bn2 = nn.BatchNorm3d(64)\n",
    "        self.relu2 = nn.ReLU()\n",
    "        self.pool2 = nn.MaxPool3d(kernel_size=(1,2,2), stride=(1,2,2))\n",
    "\n",
    "        self.conv3 = nn.Conv3d(64, 128, kernel_size=3, padding=1)\n",
    "        self.bn3 = nn.BatchNorm3d(128)\n",
    "        self.relu3 = nn.ReLU()\n",
    "        self.pool3 = nn.MaxPool3d(kernel_size=(1,2,2), stride=(1,2,2))\n",
    "\n",
    "        self.fc1 = nn.Linear(128 * (PATCH_SIZE//8) * (PATCH_SIZE//8) * NUM_FRAMES, 256)\n",
    "        self.fc_bn = nn.BatchNorm1d(256)\n",
    "        self.fc_relu = nn.ReLU()\n",
    "        self.fc2 = nn.Linear(256, NUM_BINS)\n",
    "\n",
    "    def forward(self, x, extract_features=False):\n",
    "        x = self.pool1(self.relu1(self.bn1(self.conv1(x))))\n",
    "        x = self.pool2(self.relu2(self.bn2(self.conv2(x))))\n",
    "        x = self.pool3(self.relu3(self.bn3(self.conv3(x))))\n",
    "        x = torch.flatten(x, 1)\n",
    "        x = self.fc_relu(self.fc_bn(self.fc1(x)))\n",
    "        return x if extract_features else self.fc2(x)"
   ]
  },
  {
   "cell_type": "code",
   "execution_count": 5,
   "id": "8a306f17-5a45-47aa-a548-5aa4ff54065e",
   "metadata": {
    "tags": []
   },
   "outputs": [],
   "source": [
    "# ==== TRAINING FUNCTION ====\n",
    "def train_model(model, train_loader, val_loader, epochs=30):\n",
    "    model.train()\n",
    "    optimizer = optim.Adam(model.parameters(), lr=1e-3)\n",
    "    criterion = nn.MSELoss()\n",
    "\n",
    "    for epoch in tqdm(range(epochs), desc=\"Training YSpeed Model\"):\n",
    "        model.train()\n",
    "        total_loss = 0\n",
    "        for xb, yb in train_loader:\n",
    "            xb, yb = xb.to(device), yb.to(device)\n",
    "            optimizer.zero_grad()\n",
    "            pred = model(xb)\n",
    "            loss = criterion(pred, yb)\n",
    "            loss.backward()\n",
    "            optimizer.step()\n",
    "            total_loss += loss.item()\n",
    "        print(f\"Epoch {epoch+1}: Loss = {total_loss / len(train_loader):.4f}\")"
   ]
  },
  {
   "cell_type": "code",
   "execution_count": 6,
   "id": "317105c1-bca4-4f94-b0ea-b0a3e609c28a",
   "metadata": {
    "tags": []
   },
   "outputs": [
    {
     "name": "stdout",
     "output_type": "stream",
     "text": [
      "🔍 Scanning base directory: C:\\Users\\hci\\Desktop\\data_new1\n",
      "⏳ Collecting volume paths in V1...\n",
      "⏳ Collecting volume paths in V10...\n",
      "⏳ Collecting volume paths in V11...\n",
      "⏳ Collecting volume paths in V12...\n",
      "⏳ Collecting volume paths in V13...\n",
      "⏳ Collecting volume paths in V14...\n",
      "⏳ Collecting volume paths in V15...\n",
      "⏳ Collecting volume paths in V16...\n",
      "⏳ Collecting volume paths in V17...\n",
      "⏳ Collecting volume paths in V18...\n",
      "⏳ Collecting volume paths in V19...\n",
      "⏳ Collecting volume paths in V2...\n",
      "⏳ Collecting volume paths in V20...\n",
      "⏳ Collecting volume paths in V21...\n",
      "⏳ Collecting volume paths in V3...\n",
      "⏳ Collecting volume paths in V4...\n",
      "⏳ Collecting volume paths in V5...\n",
      "⏳ Collecting volume paths in V6...\n",
      "⏳ Collecting volume paths in V7...\n",
      "⏳ Collecting volume paths in V8...\n",
      "⏳ Collecting volume paths in V9...\n",
      "✅ Total volumes to load: 209848\n"
     ]
    },
    {
     "name": "stderr",
     "output_type": "stream",
     "text": [
      "📥 Loading volumes: 100%|████████████████████████████████████████████████████| 209848/209848 [5:24:33<00:00, 10.78it/s]\n"
     ]
    },
    {
     "name": "stdout",
     "output_type": "stream",
     "text": [
      "✅ Loaded 209848 video volumes and 209848 Y_speed vectors.\n"
     ]
    }
   ],
   "source": [
    "    # ==== LOAD DATA ====\n",
    "    base_dir = \"C:\\\\Users\\\\hci\\\\Desktop\\\\data_new1\"\n",
    "    video_vols, speed_vecs = load_data_from_directory_with_debug(base_dir)"
   ]
  },
  {
   "cell_type": "code",
   "execution_count": 7,
   "id": "9f76f6bd-f98a-45e5-8a8d-b39109dbab30",
   "metadata": {
    "tags": []
   },
   "outputs": [],
   "source": [
    "dataset = TensorDataset(video_vols, speed_vecs)\n",
    "train_size = int(0.9 * len(dataset))\n",
    "val_size = len(dataset) - train_size\n",
    "train_ds, val_ds = random_split(dataset, [train_size, val_size])\n",
    "\n",
    "train_loader = DataLoader(train_ds, batch_size=20, shuffle=True)\n",
    "val_loader = DataLoader(val_ds, batch_size=20)"
   ]
  },
  {
   "cell_type": "code",
   "execution_count": 37,
   "id": "21995497-5a8a-4e6f-bd7e-9c2af37f9e09",
   "metadata": {
    "collapsed": true,
    "jupyter": {
     "outputs_hidden": true
    },
    "tags": []
   },
   "outputs": [
    {
     "name": "stderr",
     "output_type": "stream",
     "text": [
      "Training YSpeed Model:   3%|█▉                                                       | 1/30 [10:54<5:16:14, 654.30s/it]"
     ]
    },
    {
     "name": "stdout",
     "output_type": "stream",
     "text": [
      "Epoch 1: Loss = 0.0988\n"
     ]
    },
    {
     "name": "stderr",
     "output_type": "stream",
     "text": [
      "Training YSpeed Model:   7%|███▊                                                     | 2/30 [21:46<5:04:47, 653.13s/it]"
     ]
    },
    {
     "name": "stdout",
     "output_type": "stream",
     "text": [
      "Epoch 2: Loss = 0.0695\n"
     ]
    },
    {
     "name": "stderr",
     "output_type": "stream",
     "text": [
      "Training YSpeed Model:  10%|█████▋                                                   | 3/30 [32:35<4:53:07, 651.39s/it]"
     ]
    },
    {
     "name": "stdout",
     "output_type": "stream",
     "text": [
      "Epoch 3: Loss = 0.0576\n"
     ]
    },
    {
     "name": "stderr",
     "output_type": "stream",
     "text": [
      "Training YSpeed Model:  13%|███████▌                                                 | 4/30 [43:17<4:40:38, 647.64s/it]"
     ]
    },
    {
     "name": "stdout",
     "output_type": "stream",
     "text": [
      "Epoch 4: Loss = 0.0505\n"
     ]
    },
    {
     "name": "stderr",
     "output_type": "stream",
     "text": [
      "Training YSpeed Model:  17%|█████████▌                                               | 5/30 [54:04<4:29:38, 647.16s/it]"
     ]
    },
    {
     "name": "stdout",
     "output_type": "stream",
     "text": [
      "Epoch 5: Loss = 0.0445\n"
     ]
    },
    {
     "name": "stderr",
     "output_type": "stream",
     "text": [
      "Training YSpeed Model:  20%|███████████                                            | 6/30 [1:04:51<4:18:53, 647.24s/it]"
     ]
    },
    {
     "name": "stdout",
     "output_type": "stream",
     "text": [
      "Epoch 6: Loss = 0.0401\n"
     ]
    },
    {
     "name": "stderr",
     "output_type": "stream",
     "text": [
      "Training YSpeed Model:  23%|████████████▊                                          | 7/30 [1:15:47<4:09:13, 650.13s/it]"
     ]
    },
    {
     "name": "stdout",
     "output_type": "stream",
     "text": [
      "Epoch 7: Loss = 0.0367\n"
     ]
    },
    {
     "name": "stderr",
     "output_type": "stream",
     "text": [
      "Training YSpeed Model:  27%|██████████████▋                                        | 8/30 [1:26:36<3:58:11, 649.61s/it]"
     ]
    },
    {
     "name": "stdout",
     "output_type": "stream",
     "text": [
      "Epoch 8: Loss = 0.0336\n"
     ]
    },
    {
     "name": "stderr",
     "output_type": "stream",
     "text": [
      "Training YSpeed Model:  30%|████████████████▌                                      | 9/30 [1:37:29<3:47:44, 650.69s/it]"
     ]
    },
    {
     "name": "stdout",
     "output_type": "stream",
     "text": [
      "Epoch 9: Loss = 0.0310\n"
     ]
    },
    {
     "name": "stderr",
     "output_type": "stream",
     "text": [
      "Training YSpeed Model:  33%|██████████████████                                    | 10/30 [1:48:14<3:36:23, 649.19s/it]"
     ]
    },
    {
     "name": "stdout",
     "output_type": "stream",
     "text": [
      "Epoch 10: Loss = 0.0291\n"
     ]
    },
    {
     "name": "stderr",
     "output_type": "stream",
     "text": [
      "Training YSpeed Model:  37%|███████████████████▊                                  | 11/30 [1:59:08<3:25:56, 650.36s/it]"
     ]
    },
    {
     "name": "stdout",
     "output_type": "stream",
     "text": [
      "Epoch 11: Loss = 0.0271\n"
     ]
    },
    {
     "name": "stderr",
     "output_type": "stream",
     "text": [
      "Training YSpeed Model:  40%|█████████████████████▌                                | 12/30 [2:09:55<3:14:50, 649.49s/it]"
     ]
    },
    {
     "name": "stdout",
     "output_type": "stream",
     "text": [
      "Epoch 12: Loss = 0.0259\n"
     ]
    },
    {
     "name": "stderr",
     "output_type": "stream",
     "text": [
      "Training YSpeed Model:  43%|███████████████████████▍                              | 13/30 [2:20:46<3:04:10, 650.01s/it]"
     ]
    },
    {
     "name": "stdout",
     "output_type": "stream",
     "text": [
      "Epoch 13: Loss = 0.0245\n"
     ]
    },
    {
     "name": "stderr",
     "output_type": "stream",
     "text": [
      "Training YSpeed Model:  47%|█████████████████████████▏                            | 14/30 [2:31:43<2:53:51, 651.94s/it]"
     ]
    },
    {
     "name": "stdout",
     "output_type": "stream",
     "text": [
      "Epoch 14: Loss = 0.0223\n"
     ]
    },
    {
     "name": "stderr",
     "output_type": "stream",
     "text": [
      "Training YSpeed Model:  50%|███████████████████████████                           | 15/30 [2:42:44<2:43:42, 654.81s/it]"
     ]
    },
    {
     "name": "stdout",
     "output_type": "stream",
     "text": [
      "Epoch 15: Loss = 0.0214\n"
     ]
    },
    {
     "name": "stderr",
     "output_type": "stream",
     "text": [
      "Training YSpeed Model:  53%|████████████████████████████▊                         | 16/30 [2:53:36<2:32:35, 654.00s/it]"
     ]
    },
    {
     "name": "stdout",
     "output_type": "stream",
     "text": [
      "Epoch 16: Loss = 0.0208\n"
     ]
    },
    {
     "name": "stderr",
     "output_type": "stream",
     "text": [
      "Training YSpeed Model:  57%|██████████████████████████████▌                       | 17/30 [3:04:29<2:21:36, 653.57s/it]"
     ]
    },
    {
     "name": "stdout",
     "output_type": "stream",
     "text": [
      "Epoch 17: Loss = 0.0190\n"
     ]
    },
    {
     "name": "stderr",
     "output_type": "stream",
     "text": [
      "Training YSpeed Model:  60%|████████████████████████████████▍                     | 18/30 [3:15:19<2:10:32, 652.69s/it]"
     ]
    },
    {
     "name": "stdout",
     "output_type": "stream",
     "text": [
      "Epoch 18: Loss = 0.0184\n"
     ]
    },
    {
     "name": "stderr",
     "output_type": "stream",
     "text": [
      "Training YSpeed Model:  63%|██████████████████████████████████▏                   | 19/30 [3:26:15<1:59:49, 653.63s/it]"
     ]
    },
    {
     "name": "stdout",
     "output_type": "stream",
     "text": [
      "Epoch 19: Loss = 0.0173\n"
     ]
    },
    {
     "name": "stderr",
     "output_type": "stream",
     "text": [
      "Training YSpeed Model:  67%|████████████████████████████████████                  | 20/30 [3:37:08<1:48:53, 653.35s/it]"
     ]
    },
    {
     "name": "stdout",
     "output_type": "stream",
     "text": [
      "Epoch 20: Loss = 0.0165\n"
     ]
    },
    {
     "name": "stderr",
     "output_type": "stream",
     "text": [
      "Training YSpeed Model:  70%|█████████████████████████████████████▊                | 21/30 [3:48:10<1:38:23, 655.92s/it]"
     ]
    },
    {
     "name": "stdout",
     "output_type": "stream",
     "text": [
      "Epoch 21: Loss = 0.0159\n"
     ]
    },
    {
     "name": "stderr",
     "output_type": "stream",
     "text": [
      "Training YSpeed Model:  73%|███████████████████████████████████████▌              | 22/30 [3:59:00<1:27:12, 654.07s/it]"
     ]
    },
    {
     "name": "stdout",
     "output_type": "stream",
     "text": [
      "Epoch 22: Loss = 0.0151\n"
     ]
    },
    {
     "name": "stderr",
     "output_type": "stream",
     "text": [
      "Training YSpeed Model:  77%|█████████████████████████████████████████▍            | 23/30 [4:09:54<1:16:18, 654.08s/it]"
     ]
    },
    {
     "name": "stdout",
     "output_type": "stream",
     "text": [
      "Epoch 23: Loss = 0.0145\n"
     ]
    },
    {
     "name": "stderr",
     "output_type": "stream",
     "text": [
      "Training YSpeed Model:  80%|███████████████████████████████████████████▏          | 24/30 [4:20:45<1:05:19, 653.28s/it]"
     ]
    },
    {
     "name": "stdout",
     "output_type": "stream",
     "text": [
      "Epoch 24: Loss = 0.0143\n"
     ]
    },
    {
     "name": "stderr",
     "output_type": "stream",
     "text": [
      "Training YSpeed Model:  83%|██████████████████████████████████████████████▋         | 25/30 [4:31:41<54:30, 654.12s/it]"
     ]
    },
    {
     "name": "stdout",
     "output_type": "stream",
     "text": [
      "Epoch 25: Loss = 0.0136\n"
     ]
    },
    {
     "name": "stderr",
     "output_type": "stream",
     "text": [
      "Training YSpeed Model:  87%|████████████████████████████████████████████████▌       | 26/30 [4:42:41<43:43, 655.85s/it]"
     ]
    },
    {
     "name": "stdout",
     "output_type": "stream",
     "text": [
      "Epoch 26: Loss = 0.0134\n"
     ]
    },
    {
     "name": "stderr",
     "output_type": "stream",
     "text": [
      "Training YSpeed Model:  90%|██████████████████████████████████████████████████▍     | 27/30 [4:53:29<32:40, 653.44s/it]"
     ]
    },
    {
     "name": "stdout",
     "output_type": "stream",
     "text": [
      "Epoch 27: Loss = 0.0127\n"
     ]
    },
    {
     "name": "stderr",
     "output_type": "stream",
     "text": [
      "Training YSpeed Model:  93%|████████████████████████████████████████████████████▎   | 28/30 [5:04:19<21:45, 652.51s/it]"
     ]
    },
    {
     "name": "stdout",
     "output_type": "stream",
     "text": [
      "Epoch 28: Loss = 0.0122\n"
     ]
    },
    {
     "name": "stderr",
     "output_type": "stream",
     "text": [
      "Training YSpeed Model:  97%|██████████████████████████████████████████████████████▏ | 29/30 [5:15:13<10:52, 652.86s/it]"
     ]
    },
    {
     "name": "stdout",
     "output_type": "stream",
     "text": [
      "Epoch 29: Loss = 0.0120\n"
     ]
    },
    {
     "name": "stderr",
     "output_type": "stream",
     "text": [
      "Training YSpeed Model: 100%|████████████████████████████████████████████████████████| 30/30 [5:26:04<00:00, 652.15s/it]"
     ]
    },
    {
     "name": "stdout",
     "output_type": "stream",
     "text": [
      "Epoch 30: Loss = 0.0116\n"
     ]
    },
    {
     "name": "stderr",
     "output_type": "stream",
     "text": [
      "\n"
     ]
    }
   ],
   "source": [
    "# ==== TRAIN MODEL ====\n",
    "model = YSpeedModel().to(device)\n",
    "train_model(model, train_loader, val_loader, epochs=30)"
   ]
  },
  {
   "cell_type": "code",
   "execution_count": 38,
   "id": "2712c9a5-158f-4cf5-80f6-406ec2c451ef",
   "metadata": {
    "tags": []
   },
   "outputs": [
    {
     "name": "stdout",
     "output_type": "stream",
     "text": [
      "✅ YSpeed model training completed and saved.\n"
     ]
    }
   ],
   "source": [
    "torch.save(model.state_dict(), \"y_speed_model.pth\")\n",
    "print(\"✅ YSpeed model training completed and saved.\")"
   ]
  },
  {
   "cell_type": "code",
   "execution_count": 8,
   "id": "aff339a9-14c2-45bb-8d44-e190947afc14",
   "metadata": {
    "tags": []
   },
   "outputs": [
    {
     "name": "stderr",
     "output_type": "stream",
     "text": [
      "C:\\Users\\hci\\AppData\\Local\\Temp\\ipykernel_13088\\3350178538.py:2: FutureWarning: You are using `torch.load` with `weights_only=False` (the current default value), which uses the default pickle module implicitly. It is possible to construct malicious pickle data which will execute arbitrary code during unpickling (See https://github.com/pytorch/pytorch/blob/main/SECURITY.md#untrusted-models for more details). In a future release, the default value for `weights_only` will be flipped to `True`. This limits the functions that could be executed during unpickling. Arbitrary objects will no longer be allowed to be loaded via this mode unless they are explicitly allowlisted by the user via `torch.serialization.add_safe_globals`. We recommend you start setting `weights_only=True` for any use case where you don't have full control of the loaded file. Please open an issue on GitHub for any issues related to this experimental feature.\n",
      "  model_speed.load_state_dict(torch.load(\"y_speed_model.pth\"))\n"
     ]
    },
    {
     "data": {
      "text/plain": [
       "<All keys matched successfully>"
      ]
     },
     "execution_count": 8,
     "metadata": {},
     "output_type": "execute_result"
    }
   ],
   "source": [
    "model_speed = YSpeedModel().to(device)\n",
    "model_speed.load_state_dict(torch.load(\"y_speed_model.pth\"))"
   ]
  },
  {
   "cell_type": "code",
   "execution_count": 9,
   "id": "f4dce6f7-2b56-4aad-8d0d-71b8ad022897",
   "metadata": {
    "tags": []
   },
   "outputs": [],
   "source": [
    "# ✅ Extract feature vectors\n",
    "def extract_feature_vectors(model, dataloader, save_name):\n",
    "    model.eval()\n",
    "    features = []\n",
    "\n",
    "    with torch.no_grad():\n",
    "        for inputs, _ in dataloader:\n",
    "            inputs = inputs.to(device)\n",
    "            feature_vecs = model(inputs, extract_features=True)\n",
    "            features.append(feature_vecs.cpu().numpy())\n",
    "\n",
    "            \n",
    "            \n",
    "\n",
    "    features = np.vstack(features)\n",
    "    np.save(f\"{save_name}.npy\", features)\n",
    "    pd.DataFrame(features).to_csv(f\"{save_name}.csv\", index=False)\n",
    "\n",
    "    print(f\"✅ Feature vectors saved: {save_name}\")"
   ]
  },
  {
   "cell_type": "code",
   "execution_count": 10,
   "id": "8910d0a2-aec3-4bac-9050-bd3f90dcbddb",
   "metadata": {
    "tags": []
   },
   "outputs": [
    {
     "name": "stdout",
     "output_type": "stream",
     "text": [
      "✅ Feature vectors saved: y_speed_feature_updated_test.csv\n",
      "✅ Feature vectors extracted and saved successfully!\n"
     ]
    }
   ],
   "source": [
    "# ✅ **Extract Feature Vectors**\n",
    "features = extract_feature_vectors(model_speed, train_loader, \"y_speed_feature_updated_test.csv\")\n",
    "print(\"✅ Feature vectors extracted and saved successfully!\")"
   ]
  },
  {
   "cell_type": "code",
   "execution_count": null,
   "id": "17f8415a-3768-41cc-8c2a-862551703c56",
   "metadata": {},
   "outputs": [],
   "source": []
  },
  {
   "cell_type": "code",
   "execution_count": null,
   "id": "9744f9af-3e69-4f9f-8fd7-3f138d2d9408",
   "metadata": {},
   "outputs": [],
   "source": []
  }
 ],
 "metadata": {
  "kernelspec": {
   "display_name": "Python 3 (ipykernel)",
   "language": "python",
   "name": "python3"
  },
  "language_info": {
   "codemirror_mode": {
    "name": "ipython",
    "version": 3
   },
   "file_extension": ".py",
   "mimetype": "text/x-python",
   "name": "python",
   "nbconvert_exporter": "python",
   "pygments_lexer": "ipython3",
   "version": "3.11.5"
  }
 },
 "nbformat": 4,
 "nbformat_minor": 5
}
