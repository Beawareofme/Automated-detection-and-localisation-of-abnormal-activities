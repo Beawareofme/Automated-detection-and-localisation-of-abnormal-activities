{
 "cells": [
  {
   "cell_type": "code",
   "execution_count": 1,
   "id": "159c2e0a-cf36-4613-b7ee-107a0203ba89",
   "metadata": {
    "tags": []
   },
   "outputs": [],
   "source": [
    "import numpy as np\n",
    "import os\n",
    "from tqdm import tqdm\n",
    "\n",
    "# === Paths ===\n",
    "feature_save_dir = \"saved_feature_vectors/\"\n",
    "exemplar_save_dir = \"exemplar_features/\"\n",
    "os.makedirs(exemplar_save_dir, exist_ok=True)\n",
    "\n",
    "# === Load features for all 3 motion models ===\n",
    "feature_files = {\n",
    "    \"y_speed\": \"y_speed_feature_updated.npy\",\n",
    "    \"y_ang\": \"y_ang_features_updated.npy\",\n",
    "    \"y_bkg\": \"y_bkg_features_updated.npy\"\n",
    "}"
   ]
  },
  {
   "cell_type": "code",
   "execution_count": 2,
   "id": "9200e7ab-514a-493e-8144-be64317bd781",
   "metadata": {
    "tags": []
   },
   "outputs": [],
   "source": [
    "features = {}\n",
    "for name, fname in feature_files.items():\n",
    "    path = os.path.join(feature_save_dir, fname)\n",
    "    if not os.path.exists(path):\n",
    "        raise FileNotFoundError(f\"Missing file: {path}\")\n",
    "    data = np.load(path)\n",
    "    features[name] = data.astype(np.float32)\n",
    "\n",
    "# === Stack motion features into one combined vector ===\n",
    "y_speed = features[\"y_speed\"]\n",
    "y_ang   = features[\"y_ang\"]\n",
    "y_bkg   = features[\"y_bkg\"]\n",
    "\n",
    "assert y_speed.shape[0] == y_ang.shape[0] == y_bkg.shape[0], \"Mismatch in sample counts\"\n",
    "\n",
    "# Concatenate into combined motion vector (N, 768)\n",
    "combined_features = np.concatenate([y_speed, y_ang, y_bkg], axis=1)"
   ]
  },
  {
   "cell_type": "code",
   "execution_count": 5,
   "id": "2ef6c573-9531-4862-ac6b-2dd1dc034415",
   "metadata": {
    "tags": []
   },
   "outputs": [
    {
     "name": "stdout",
     "output_type": "stream",
     "text": [
      "[Z] Normalization constants → Z_ang: 4.1519, Z_speed: 12.4417, Z_bkg: 16.7560\n"
     ]
    }
   ],
   "source": [
    "# === Compute Normalization Constants ===\n",
    "def compute_Z_max(X, sample_size=1000):\n",
    "    idx = np.random.choice(len(X), min(sample_size, len(X)), replace=False)\n",
    "    sampled = X[idx]\n",
    "    max_dist = 0\n",
    "    for i in range(len(sampled)):\n",
    "        for j in range(i + 1, len(sampled)):\n",
    "            dist = np.linalg.norm(sampled[i] - sampled[j])\n",
    "            if dist > max_dist:\n",
    "                max_dist = dist\n",
    "    return max_dist\n",
    "\n",
    "Z_speed = compute_Z_max(y_speed)\n",
    "Z_ang   = compute_Z_max(y_ang)\n",
    "Z_bkg   = compute_Z_max(y_bkg)\n",
    "\n",
    "Z_speed = Z_speed if Z_speed > 0 else 1\n",
    "Z_ang   = Z_ang if Z_ang > 0 else 1\n",
    "Z_bkg   = Z_bkg if Z_bkg > 0 else 1\n",
    "\n",
    "print(f\"[Z] Normalization constants → Z_ang: {Z_ang:.4f}, Z_speed: {Z_speed:.4f}, Z_bkg: {Z_bkg:.4f}\")"
   ]
  },
  {
   "cell_type": "code",
   "execution_count": 6,
   "id": "3f725dc2-9456-499f-b81a-da38ce5685d4",
   "metadata": {
    "tags": []
   },
   "outputs": [],
   "source": [
    "# === Distance function from paper ===\n",
    "def motion_distance(v1, v2):\n",
    "    d_ang   = np.linalg.norm(v1[256:512] - v2[256:512]) / Z_ang\n",
    "    d_speed = np.linalg.norm(v1[:256] - v2[:256]) / Z_speed\n",
    "    d_bkg   = np.linalg.norm(v1[512:] - v2[512:]) / Z_bkg\n",
    "    return d_ang + d_speed + d_bkg"
   ]
  },
  {
   "cell_type": "code",
   "execution_count": 7,
   "id": "9c281bb0-f65d-47d7-87e2-811bcb8d6a41",
   "metadata": {
    "tags": []
   },
   "outputs": [],
   "source": [
    "# === Greedy exemplar selection (from paper) ===\n",
    "def select_exemplars(features, threshold=1.0):\n",
    "    exemplars = [features[0]]\n",
    "    for i in tqdm(range(1, len(features)), desc=\"Selecting Exemplars\"):\n",
    "        dists = [motion_distance(features[i], ex) for ex in exemplars]\n",
    "        if min(dists) > threshold:\n",
    "            exemplars.append(features[i])\n",
    "    return np.stack(exemplars)"
   ]
  },
  {
   "cell_type": "code",
   "execution_count": 8,
   "id": "2fc9fd97-688b-4428-a214-9d45ce8fe8ae",
   "metadata": {
    "tags": []
   },
   "outputs": [
    {
     "name": "stdout",
     "output_type": "stream",
     "text": [
      "[🚀] Running exemplar selection based on combined motion features...\n"
     ]
    },
    {
     "name": "stderr",
     "output_type": "stream",
     "text": [
      "Selecting Exemplars: 100%|████████████████████████████████████████████████████| 188739/188739 [08:17<00:00, 379.50it/s]\n"
     ]
    }
   ],
   "source": [
    "# === Run selection ===\n",
    "print(\"[🚀] Running exemplar selection based on combined motion features...\")\n",
    "exemplars = select_exemplars(combined_features, threshold=1.0)"
   ]
  },
  {
   "cell_type": "code",
   "execution_count": 9,
   "id": "d497c5a6-b5c0-41e2-9120-6abda7ecefbd",
   "metadata": {
    "tags": []
   },
   "outputs": [
    {
     "name": "stdout",
     "output_type": "stream",
     "text": [
      "[✅] Saved 567 motion-based exemplars to: motion_exemplars.npy\n"
     ]
    }
   ],
   "source": [
    "# === Save ===\n",
    "np.save(os.path.join(exemplar_save_dir, \"motion_exemplars.npy\"), exemplars)\n",
    "print(f\"[✅] Saved {len(exemplars)} motion-based exemplars to: motion_exemplars.npy\")"
   ]
  },
  {
   "cell_type": "code",
   "execution_count": null,
   "id": "73e659f7-7438-479e-9c8b-25fd066cfdba",
   "metadata": {},
   "outputs": [],
   "source": []
  }
 ],
 "metadata": {
  "kernelspec": {
   "display_name": "Python 3 (ipykernel)",
   "language": "python",
   "name": "python3"
  },
  "language_info": {
   "codemirror_mode": {
    "name": "ipython",
    "version": 3
   },
   "file_extension": ".py",
   "mimetype": "text/x-python",
   "name": "python",
   "nbconvert_exporter": "python",
   "pygments_lexer": "ipython3",
   "version": "3.11.5"
  }
 },
 "nbformat": 4,
 "nbformat_minor": 5
}
