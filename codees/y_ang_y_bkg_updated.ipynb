{
 "cells": [
  {
   "cell_type": "code",
   "execution_count": 1,
   "id": "76f22bf5-c5ee-4072-ae27-c48e0810313e",
   "metadata": {
    "tags": []
   },
   "outputs": [
    {
     "name": "stdout",
     "output_type": "stream",
     "text": [
      "💻 Using device: cuda\n"
     ]
    }
   ],
   "source": [
    "import os\n",
    "import numpy as np\n",
    "import pandas as pd\n",
    "import cv2\n",
    "import torch\n",
    "import torch.nn as nn\n",
    "import torch.optim as optim\n",
    "from torch.utils.data import DataLoader, TensorDataset, random_split\n",
    "from tqdm import tqdm\n",
    "\n",
    "# === CONFIG ===\n",
    "device = torch.device(\"cuda\" if torch.cuda.is_available() else \"cpu\")\n",
    "torch.cuda.empty_cache()\n",
    "print(f\"💻 Using device: {device}\")\n",
    "\n",
    "PATCH_SIZE = 64\n",
    "NUM_FRAMES = 10\n",
    "NUM_BINS = 12"
   ]
  },
  {
   "cell_type": "code",
   "execution_count": 2,
   "id": "936aa554-6712-4339-81e1-10dfa1e8a9c2",
   "metadata": {
    "tags": []
   },
   "outputs": [],
   "source": [
    "# === GROUND TRUTH HISTOGRAM (Y_ang and Y_bkg) ===\n",
    "def compute_ground_truth_histogram(optical_flows, num_bins=12, threshold=0.1):\n",
    "    histogram = np.zeros(num_bins + 1)  # 12 bins for angles + 1 for no motion\n",
    "    for flow in optical_flows:\n",
    "        flow_x = flow[..., 0]\n",
    "        flow_y = flow[..., 1]\n",
    "        mag, ang = cv2.cartToPolar(flow_x.astype(np.float32), flow_y.astype(np.float32))\n",
    "        hist, _ = np.histogram(ang, bins=num_bins, range=(0, 2 * np.pi))\n",
    "        no_motion_count = np.sum(mag < threshold)\n",
    "        histogram[:-1] += hist\n",
    "        histogram[-1] += no_motion_count\n",
    "    total = np.sum(histogram)\n",
    "    return histogram / total if total > 0 else histogram"
   ]
  },
  {
   "cell_type": "code",
   "execution_count": 3,
   "id": "0096b68a-93d5-4fe1-b1c8-0618e0b01eb4",
   "metadata": {
    "tags": []
   },
   "outputs": [],
   "source": [
    "def collect_valid_volume_paths(base_dir):\n",
    "    volume_paths = []\n",
    "    for subdir in sorted(os.listdir(base_dir)):\n",
    "        sub_path = os.path.join(base_dir, subdir)\n",
    "        video_path = os.path.join(sub_path, \"video_volumes\")\n",
    "        flow_path = os.path.join(sub_path, \"optical_flows\")\n",
    "        if not os.path.isdir(video_path) or not os.path.isdir(flow_path):\n",
    "            print(f\"⚠️ Skipping {subdir}: Missing required folders.\")\n",
    "            continue\n",
    "        print(f\"⏳ Collecting volume paths in {subdir}...\")\n",
    "        for vol_folder in sorted(os.listdir(video_path)):\n",
    "            vol_full_path = os.path.join(video_path, vol_folder)\n",
    "            flow_folder_path = os.path.join(flow_path, vol_folder)\n",
    "            if os.path.isdir(vol_full_path) and os.path.isdir(flow_folder_path):\n",
    "                volume_paths.append((vol_full_path, flow_folder_path))\n",
    "    print(f\"✅ Total volumes to load: {len(volume_paths)}\")\n",
    "    return volume_paths"
   ]
  },
  {
   "cell_type": "code",
   "execution_count": 4,
   "id": "fcce84c7-4771-43e3-8bc9-357bf496df8d",
   "metadata": {
    "tags": []
   },
   "outputs": [],
   "source": [
    "def load_yang_data(base_dir):\n",
    "    from tqdm import tqdm\n",
    "    volume_paths = collect_valid_volume_paths(base_dir)\n",
    "    video_volumes, y_ang = [], []\n",
    "\n",
    "    for vol_path, flow_path in tqdm(volume_paths, desc=\"📥 Loading Y_ang\"):\n",
    "        frames, flows = [], []\n",
    "        for i in range(NUM_FRAMES):\n",
    "            frame_path = os.path.join(vol_path, f\"frame_{i:04d}.png\")\n",
    "            img = cv2.imread(frame_path)\n",
    "            if img is None:\n",
    "                print(f\"⚠️ Missing frame {i} in {vol_path}\")\n",
    "                frames = []\n",
    "                break\n",
    "            frames.append(cv2.resize(img, (PATCH_SIZE, PATCH_SIZE)))\n",
    "        if len(frames) != NUM_FRAMES:\n",
    "            continue\n",
    "        video_volumes.append(np.stack(frames, axis=0))\n",
    "\n",
    "        for i in range(NUM_FRAMES - 1):\n",
    "            flow_file = os.path.join(flow_path, f\"flow_raw_{i:04d}.npy\")\n",
    "            if not os.path.exists(flow_file):\n",
    "                print(f\"⚠️ Missing flow file: {flow_file}\")\n",
    "                flows = []\n",
    "                break\n",
    "            flows.append(cv2.resize(np.load(flow_file), (PATCH_SIZE, PATCH_SIZE)))\n",
    "        if len(flows) != NUM_FRAMES - 1:\n",
    "            continue\n",
    "\n",
    "        hist = compute_ground_truth_histogram(flows, num_bins=NUM_BINS)\n",
    "        y_ang.append(hist[:-1])\n",
    "\n",
    "    if not video_volumes or not y_ang:\n",
    "        raise ValueError(\"🚫 No valid Y_ang data found.\")\n",
    "\n",
    "    X = np.stack(video_volumes).transpose(0, 4, 1, 2, 3)\n",
    "    Y_ang = torch.tensor(np.stack(y_ang), dtype=torch.float32)\n",
    "    Y_ang = Y_ang / (Y_ang.sum(dim=-1, keepdim=True) + 1e-8)\n",
    "    print(f\"✅ Loaded {len(X)} volumes for Y_ang, shape: {X.shape}\")\n",
    "    return torch.tensor(X, dtype=torch.float32), Y_ang"
   ]
  },
  {
   "cell_type": "code",
   "execution_count": 5,
   "id": "460015dc-b6e8-495b-bbcf-7701aaa44b41",
   "metadata": {
    "tags": []
   },
   "outputs": [],
   "source": [
    "def load_ybkg_data(base_dir):\n",
    "    from tqdm import tqdm\n",
    "    volume_paths = collect_valid_volume_paths(base_dir)\n",
    "    video_volumes, y_bkg = [], []\n",
    "\n",
    "    for vol_path, flow_path in tqdm(volume_paths, desc=\"📥 Loading Y_bkg\"):\n",
    "        frames, flows = [], []\n",
    "        for i in range(NUM_FRAMES):\n",
    "            frame_path = os.path.join(vol_path, f\"frame_{i:04d}.png\")\n",
    "            img = cv2.imread(frame_path)\n",
    "            if img is None:\n",
    "                print(f\"⚠️ Missing frame {i} in {vol_path}\")\n",
    "                frames = []\n",
    "                break\n",
    "            frames.append(cv2.resize(img, (PATCH_SIZE, PATCH_SIZE)))\n",
    "        if len(frames) != NUM_FRAMES:\n",
    "            continue\n",
    "        video_volumes.append(np.stack(frames, axis=0))\n",
    "\n",
    "        for i in range(NUM_FRAMES - 1):\n",
    "            flow_file = os.path.join(flow_path, f\"flow_raw_{i:04d}.npy\")\n",
    "            if not os.path.exists(flow_file):\n",
    "                print(f\"⚠️ Missing flow file: {flow_file}\")\n",
    "                flows = []\n",
    "                break\n",
    "            flows.append(cv2.resize(np.load(flow_file), (PATCH_SIZE, PATCH_SIZE)))\n",
    "        if len(flows) != NUM_FRAMES - 1:\n",
    "            continue\n",
    "\n",
    "        hist = compute_ground_truth_histogram(flows, num_bins=NUM_BINS)\n",
    "        y_bkg.append(hist[-1])  # last bin for stationary\n",
    "\n",
    "    if not video_volumes or not y_bkg:\n",
    "        raise ValueError(\"🚫 No valid Y_bkg data found.\")\n",
    "\n",
    "    X = np.stack(video_volumes).transpose(0, 4, 1, 2, 3)\n",
    "    Y_bkg = torch.tensor(np.stack(y_bkg), dtype=torch.float32).unsqueeze(1)\n",
    "    Y_bkg = (Y_bkg > 0.5).float()\n",
    "    print(f\"✅ Loaded {len(X)} volumes for Y_bkg, shape: {X.shape}\")\n",
    "    return torch.tensor(X, dtype=torch.float32), Y_bkg"
   ]
  },
  {
   "cell_type": "code",
   "execution_count": 6,
   "id": "61a47294-d82e-4823-b0a6-ad0294367890",
   "metadata": {
    "tags": []
   },
   "outputs": [],
   "source": [
    "# === MODEL DEFINITIONS ===\n",
    "\n",
    "class YangModel(nn.Module):\n",
    "    def __init__(self):\n",
    "        super(YangModel, self).__init__()\n",
    "        self.conv1 = nn.Conv3d(3, 32, kernel_size=(5, 5, 5), padding=2)\n",
    "        self.bn1 = nn.BatchNorm3d(32)\n",
    "        self.pool1 = nn.MaxPool3d(kernel_size=(1, 2, 2), stride=(1, 2, 2))\n",
    "\n",
    "        self.conv2 = nn.Conv3d(32, 64, kernel_size=3, padding=1)\n",
    "        self.bn2 = nn.BatchNorm3d(64)\n",
    "        self.pool2 = nn.MaxPool3d(kernel_size=(1, 2, 2), stride=(1, 2, 2))\n",
    "\n",
    "        self.conv3 = nn.Conv3d(64, 128, kernel_size=3, padding=1)\n",
    "        self.bn3 = nn.BatchNorm3d(128)\n",
    "        self.pool3 = nn.MaxPool3d(kernel_size=(1, 2, 2), stride=(1, 2, 2))\n",
    "\n",
    "        self.fc1 = nn.Linear(128 * (PATCH_SIZE // 8) * (PATCH_SIZE // 8) * NUM_FRAMES, 256)\n",
    "        self.fc_bn = nn.BatchNorm1d(256)\n",
    "        self.fc_relu = nn.ReLU()\n",
    "        self.fc2 = nn.Linear(256, NUM_BINS)\n",
    "\n",
    "    def forward(self, x, extract_features=False):\n",
    "        x = self.pool1(torch.relu(self.bn1(self.conv1(x))))\n",
    "        x = self.pool2(torch.relu(self.bn2(self.conv2(x))))\n",
    "        x = self.pool3(torch.relu(self.bn3(self.conv3(x))))\n",
    "        x = torch.flatten(x, 1)\n",
    "        x = self.fc_relu(self.fc_bn(self.fc1(x)))\n",
    "        if extract_features:\n",
    "            return x\n",
    "        \n",
    "        logits = self.fc2(x)\n",
    "        probs = torch.softmax(logits, dim=-1)\n",
    "        log_probs = torch.log(probs + 1e-8)  # Avoid log(0) for stability\n",
    "        return log_probs\n",
    "\n",
    "class YBkgModel(YangModel):\n",
    "    def __init__(self):\n",
    "        super(YBkgModel, self).__init__()\n",
    "        self.fc2 = nn.Linear(256, 1)\n",
    "\n",
    "    def forward(self, x, extract_features=False):\n",
    "        x = super().forward(x, extract_features=True)\n",
    "        return torch.sigmoid(self.fc2(x)) if not extract_features else x"
   ]
  },
  {
   "cell_type": "code",
   "execution_count": 7,
   "id": "5a66a863-154d-4b3d-8842-27f716b4c902",
   "metadata": {
    "tags": []
   },
   "outputs": [],
   "source": [
    "# === TRAINING LOOP ===\n",
    "def train_model(model, train_loader, loss_fn, optimizer, epochs=30):\n",
    "    model.train()\n",
    "    for epoch in tqdm(range(epochs), desc=\"Training\"):\n",
    "        total_loss = 0\n",
    "        for xb, yb in train_loader:\n",
    "            xb, yb = xb.to(device), yb.to(device)\n",
    "            optimizer.zero_grad()\n",
    "            output = model(xb)\n",
    "            loss = loss_fn(output, yb)\n",
    "            loss.backward()\n",
    "            optimizer.step()\n",
    "            total_loss += loss.item()\n",
    "        print(f\"Epoch {epoch + 1}: Loss = {total_loss / len(train_loader):.4f}\")"
   ]
  },
  {
   "cell_type": "code",
   "execution_count": null,
   "id": "2ae1b090-afa9-41b2-a0cd-38651ee8a427",
   "metadata": {
    "tags": []
   },
   "outputs": [
    {
     "name": "stdout",
     "output_type": "stream",
     "text": [
      "⏳ Collecting volume paths in V1...\n",
      "⏳ Collecting volume paths in V10...\n",
      "⏳ Collecting volume paths in V11...\n",
      "⏳ Collecting volume paths in V12...\n",
      "⏳ Collecting volume paths in V13...\n",
      "⏳ Collecting volume paths in V14...\n",
      "⏳ Collecting volume paths in V15...\n",
      "⏳ Collecting volume paths in V16...\n",
      "⏳ Collecting volume paths in V17...\n",
      "⏳ Collecting volume paths in V18...\n",
      "⏳ Collecting volume paths in V19...\n",
      "⏳ Collecting volume paths in V2...\n",
      "⏳ Collecting volume paths in V20...\n",
      "⏳ Collecting volume paths in V21...\n",
      "⏳ Collecting volume paths in V3...\n",
      "⏳ Collecting volume paths in V4...\n",
      "⏳ Collecting volume paths in V5...\n",
      "⏳ Collecting volume paths in V6...\n",
      "⏳ Collecting volume paths in V7...\n",
      "⏳ Collecting volume paths in V8...\n",
      "⏳ Collecting volume paths in V9...\n",
      "✅ Total volumes to load: 209848\n"
     ]
    },
    {
     "name": "stderr",
     "output_type": "stream",
     "text": [
      "📥 Loading Y_ang:   4%|██▎                                                     | 8539/209848 [12:37<4:30:49, 12.39it/s]"
     ]
    }
   ],
   "source": [
    "base_dir = \"C:\\\\Users\\\\hci\\\\Desktop\\\\data_new1\"\n",
    "# Y_ang data only\n",
    "video_volumes, y_ang = load_yang_data(base_dir)"
   ]
  },
  {
   "cell_type": "code",
   "execution_count": null,
   "id": "95a40074-1526-429b-89da-e2a2c34d90c6",
   "metadata": {
    "tags": []
   },
   "outputs": [],
   "source": [
    "# Split dataset\n",
    "dataset_ang = TensorDataset(video_volumes, y_ang)\n",
    "#dataset_bkg = TensorDataset(video_volumes, y_bkg)\n",
    "\n",
    "train_size = int(0.9 * len(dataset_ang))\n",
    "val_size = len(dataset_ang) - train_size\n",
    "\n",
    "train_ang, val_ang = random_split(dataset_ang, [train_size, val_size])\n",
    "#train_bkg, val_bkg = random_split(dataset_bkg, [train_size, val_size])\n",
    "\n",
    "train_loader_ang = DataLoader(train_ang, batch_size=20, shuffle=True, drop_last=True)\n",
    "#train_loader_bkg = DataLoader(train_bkg, batch_size=20, shuffle=True, drop_last=True)"
   ]
  },
  {
   "cell_type": "code",
   "execution_count": 8,
   "id": "74a873a0-9ce9-43d0-9c6f-d4caa298e936",
   "metadata": {
    "collapsed": true,
    "jupyter": {
     "outputs_hidden": true
    },
    "tags": []
   },
   "outputs": [
    {
     "name": "stderr",
     "output_type": "stream",
     "text": [
      "Training:   3%|██▎                                                                   | 1/30 [10:43<5:11:04, 643.60s/it]"
     ]
    },
    {
     "name": "stdout",
     "output_type": "stream",
     "text": [
      "Epoch 1: Loss = 0.0346\n"
     ]
    },
    {
     "name": "stderr",
     "output_type": "stream",
     "text": [
      "Training:   7%|████▋                                                                 | 2/30 [21:32<5:01:55, 646.97s/it]"
     ]
    },
    {
     "name": "stdout",
     "output_type": "stream",
     "text": [
      "Epoch 2: Loss = 0.0252\n"
     ]
    },
    {
     "name": "stderr",
     "output_type": "stream",
     "text": [
      "Training:  10%|███████                                                               | 3/30 [32:26<4:52:34, 650.17s/it]"
     ]
    },
    {
     "name": "stdout",
     "output_type": "stream",
     "text": [
      "Epoch 3: Loss = 0.0209\n"
     ]
    },
    {
     "name": "stderr",
     "output_type": "stream",
     "text": [
      "Training:  13%|█████████▎                                                            | 4/30 [43:21<4:42:28, 651.86s/it]"
     ]
    },
    {
     "name": "stdout",
     "output_type": "stream",
     "text": [
      "Epoch 4: Loss = 0.0185\n"
     ]
    },
    {
     "name": "stderr",
     "output_type": "stream",
     "text": [
      "Training:  17%|███████████▋                                                          | 5/30 [54:12<4:31:26, 651.48s/it]"
     ]
    },
    {
     "name": "stdout",
     "output_type": "stream",
     "text": [
      "Epoch 5: Loss = 0.0166\n"
     ]
    },
    {
     "name": "stderr",
     "output_type": "stream",
     "text": [
      "Training:  20%|█████████████▌                                                      | 6/30 [1:05:14<4:22:03, 655.16s/it]"
     ]
    },
    {
     "name": "stdout",
     "output_type": "stream",
     "text": [
      "Epoch 6: Loss = 0.0144\n"
     ]
    },
    {
     "name": "stderr",
     "output_type": "stream",
     "text": [
      "Training:  23%|███████████████▊                                                    | 7/30 [1:16:35<4:14:25, 663.73s/it]"
     ]
    },
    {
     "name": "stdout",
     "output_type": "stream",
     "text": [
      "Epoch 7: Loss = 0.0126\n"
     ]
    },
    {
     "name": "stderr",
     "output_type": "stream",
     "text": [
      "Training:  27%|██████████████████▏                                                 | 8/30 [1:28:06<4:06:28, 672.19s/it]"
     ]
    },
    {
     "name": "stdout",
     "output_type": "stream",
     "text": [
      "Epoch 8: Loss = 0.0115\n"
     ]
    },
    {
     "name": "stderr",
     "output_type": "stream",
     "text": [
      "Training:  30%|████████████████████▍                                               | 9/30 [1:39:29<3:56:29, 675.70s/it]"
     ]
    },
    {
     "name": "stdout",
     "output_type": "stream",
     "text": [
      "Epoch 9: Loss = 0.0107\n"
     ]
    },
    {
     "name": "stderr",
     "output_type": "stream",
     "text": [
      "Training:  33%|██████████████████████▎                                            | 10/30 [1:50:54<3:46:14, 678.70s/it]"
     ]
    },
    {
     "name": "stdout",
     "output_type": "stream",
     "text": [
      "Epoch 10: Loss = 0.0101\n"
     ]
    },
    {
     "name": "stderr",
     "output_type": "stream",
     "text": [
      "Training:  37%|████████████████████████▌                                          | 11/30 [2:02:19<3:35:27, 680.39s/it]"
     ]
    },
    {
     "name": "stdout",
     "output_type": "stream",
     "text": [
      "Epoch 11: Loss = 0.0095\n"
     ]
    },
    {
     "name": "stderr",
     "output_type": "stream",
     "text": [
      "Training:  40%|██████████████████████████▊                                        | 12/30 [2:13:42<3:24:20, 681.14s/it]"
     ]
    },
    {
     "name": "stdout",
     "output_type": "stream",
     "text": [
      "Epoch 12: Loss = 0.0091\n"
     ]
    },
    {
     "name": "stderr",
     "output_type": "stream",
     "text": [
      "Training:  43%|█████████████████████████████                                      | 13/30 [2:25:06<3:13:18, 682.29s/it]"
     ]
    },
    {
     "name": "stdout",
     "output_type": "stream",
     "text": [
      "Epoch 13: Loss = 0.0087\n"
     ]
    },
    {
     "name": "stderr",
     "output_type": "stream",
     "text": [
      "Training:  47%|███████████████████████████████▎                                   | 14/30 [2:36:33<3:02:18, 683.68s/it]"
     ]
    },
    {
     "name": "stdout",
     "output_type": "stream",
     "text": [
      "Epoch 14: Loss = 0.0084\n"
     ]
    },
    {
     "name": "stderr",
     "output_type": "stream",
     "text": [
      "Training:  50%|█████████████████████████████████▌                                 | 15/30 [2:47:59<2:51:02, 684.13s/it]"
     ]
    },
    {
     "name": "stdout",
     "output_type": "stream",
     "text": [
      "Epoch 15: Loss = 0.0081\n"
     ]
    },
    {
     "name": "stderr",
     "output_type": "stream",
     "text": [
      "Training:  53%|███████████████████████████████████▋                               | 16/30 [2:59:23<2:39:37, 684.12s/it]"
     ]
    },
    {
     "name": "stdout",
     "output_type": "stream",
     "text": [
      "Epoch 16: Loss = 0.0079\n"
     ]
    },
    {
     "name": "stderr",
     "output_type": "stream",
     "text": [
      "Training:  57%|█████████████████████████████████████▉                             | 17/30 [3:10:48<2:28:17, 684.43s/it]"
     ]
    },
    {
     "name": "stdout",
     "output_type": "stream",
     "text": [
      "Epoch 17: Loss = 0.0077\n"
     ]
    },
    {
     "name": "stderr",
     "output_type": "stream",
     "text": [
      "Training:  60%|████████████████████████████████████████▏                          | 18/30 [3:22:14<2:16:59, 685.00s/it]"
     ]
    },
    {
     "name": "stdout",
     "output_type": "stream",
     "text": [
      "Epoch 18: Loss = 0.0075\n"
     ]
    },
    {
     "name": "stderr",
     "output_type": "stream",
     "text": [
      "Training:  63%|██████████████████████████████████████████▍                        | 19/30 [3:33:39<2:05:35, 685.04s/it]"
     ]
    },
    {
     "name": "stdout",
     "output_type": "stream",
     "text": [
      "Epoch 19: Loss = 0.0074\n"
     ]
    },
    {
     "name": "stderr",
     "output_type": "stream",
     "text": [
      "Training:  67%|████████████████████████████████████████████▋                      | 20/30 [3:45:05<1:54:11, 685.12s/it]"
     ]
    },
    {
     "name": "stdout",
     "output_type": "stream",
     "text": [
      "Epoch 20: Loss = 0.0073\n"
     ]
    },
    {
     "name": "stderr",
     "output_type": "stream",
     "text": [
      "Training:  70%|██████████████████████████████████████████████▉                    | 21/30 [3:56:28<1:42:42, 684.72s/it]"
     ]
    },
    {
     "name": "stdout",
     "output_type": "stream",
     "text": [
      "Epoch 21: Loss = 0.0071\n"
     ]
    },
    {
     "name": "stderr",
     "output_type": "stream",
     "text": [
      "Training:  73%|█████████████████████████████████████████████████▏                 | 22/30 [4:07:54<1:31:19, 684.97s/it]"
     ]
    },
    {
     "name": "stdout",
     "output_type": "stream",
     "text": [
      "Epoch 22: Loss = 0.0070\n"
     ]
    },
    {
     "name": "stderr",
     "output_type": "stream",
     "text": [
      "Training:  77%|███████████████████████████████████████████████████▎               | 23/30 [4:19:18<1:19:52, 684.62s/it]"
     ]
    },
    {
     "name": "stdout",
     "output_type": "stream",
     "text": [
      "Epoch 23: Loss = 0.0069\n"
     ]
    },
    {
     "name": "stderr",
     "output_type": "stream",
     "text": [
      "Training:  80%|█████████████████████████████████████████████████████▌             | 24/30 [4:30:43<1:08:28, 684.74s/it]"
     ]
    },
    {
     "name": "stdout",
     "output_type": "stream",
     "text": [
      "Epoch 24: Loss = 0.0069\n"
     ]
    },
    {
     "name": "stderr",
     "output_type": "stream",
     "text": [
      "Training:  83%|█████████████████████████████████████████████████████████▌           | 25/30 [4:42:11<57:08, 685.76s/it]"
     ]
    },
    {
     "name": "stdout",
     "output_type": "stream",
     "text": [
      "Epoch 25: Loss = 0.0068\n"
     ]
    },
    {
     "name": "stderr",
     "output_type": "stream",
     "text": [
      "Training:  87%|███████████████████████████████████████████████████████████▊         | 26/30 [4:53:36<45:41, 685.49s/it]"
     ]
    },
    {
     "name": "stdout",
     "output_type": "stream",
     "text": [
      "Epoch 26: Loss = 0.0067\n"
     ]
    },
    {
     "name": "stderr",
     "output_type": "stream",
     "text": [
      "Training:  90%|██████████████████████████████████████████████████████████████       | 27/30 [5:05:02<34:17, 685.70s/it]"
     ]
    },
    {
     "name": "stdout",
     "output_type": "stream",
     "text": [
      "Epoch 27: Loss = 0.0066\n"
     ]
    },
    {
     "name": "stderr",
     "output_type": "stream",
     "text": [
      "Training:  93%|████████████████████████████████████████████████████████████████▍    | 28/30 [5:16:28<22:51, 685.77s/it]"
     ]
    },
    {
     "name": "stdout",
     "output_type": "stream",
     "text": [
      "Epoch 28: Loss = 0.0066\n"
     ]
    },
    {
     "name": "stderr",
     "output_type": "stream",
     "text": [
      "Training:  97%|██████████████████████████████████████████████████████████████████▋  | 29/30 [5:27:53<11:25, 685.66s/it]"
     ]
    },
    {
     "name": "stdout",
     "output_type": "stream",
     "text": [
      "Epoch 29: Loss = 0.0065\n"
     ]
    },
    {
     "name": "stderr",
     "output_type": "stream",
     "text": [
      "Training: 100%|█████████████████████████████████████████████████████████████████████| 30/30 [5:39:19<00:00, 678.66s/it]"
     ]
    },
    {
     "name": "stdout",
     "output_type": "stream",
     "text": [
      "Epoch 30: Loss = 0.0065\n"
     ]
    },
    {
     "name": "stderr",
     "output_type": "stream",
     "text": [
      "\n"
     ]
    },
    {
     "name": "stdout",
     "output_type": "stream",
     "text": [
      "✅ Y_ang model saved.\n"
     ]
    }
   ],
   "source": [
    "# === TRAIN Y_ang ===\n",
    "yang_model = YangModel().to(device)\n",
    "opt_ang = optim.AdamW(yang_model.parameters(), lr=1e-3)\n",
    "train_model(yang_model, train_loader_ang, nn.KLDivLoss(reduction=\"batchmean\"), opt_ang)\n",
    "torch.save(yang_model.state_dict(), \"yang_model.pth\")\n",
    "print(\"✅ Y_ang model saved.\")"
   ]
  },
  {
   "cell_type": "code",
   "execution_count": 9,
   "id": "0aaf2114-154f-4079-a0d2-c35c262354e3",
   "metadata": {
    "collapsed": true,
    "jupyter": {
     "outputs_hidden": true
    },
    "tags": []
   },
   "outputs": [
    {
     "name": "stderr",
     "output_type": "stream",
     "text": [
      "Training:   3%|██▎                                                                   | 1/30 [11:31<5:34:18, 691.67s/it]"
     ]
    },
    {
     "name": "stdout",
     "output_type": "stream",
     "text": [
      "Epoch 1: Loss = 0.0098\n"
     ]
    },
    {
     "name": "stderr",
     "output_type": "stream",
     "text": [
      "Training:   7%|████▋                                                                 | 2/30 [22:53<5:20:09, 686.05s/it]"
     ]
    },
    {
     "name": "stdout",
     "output_type": "stream",
     "text": [
      "Epoch 2: Loss = 0.0000\n"
     ]
    },
    {
     "name": "stderr",
     "output_type": "stream",
     "text": [
      "Training:  10%|███████                                                               | 3/30 [34:22<5:09:14, 687.19s/it]"
     ]
    },
    {
     "name": "stdout",
     "output_type": "stream",
     "text": [
      "Epoch 3: Loss = 0.0000\n"
     ]
    },
    {
     "name": "stderr",
     "output_type": "stream",
     "text": [
      "Training:  13%|█████████▎                                                            | 4/30 [45:59<4:59:28, 691.11s/it]"
     ]
    },
    {
     "name": "stdout",
     "output_type": "stream",
     "text": [
      "Epoch 4: Loss = 0.0000\n"
     ]
    },
    {
     "name": "stderr",
     "output_type": "stream",
     "text": [
      "Training:  17%|███████████▋                                                          | 5/30 [57:24<4:47:04, 688.97s/it]"
     ]
    },
    {
     "name": "stdout",
     "output_type": "stream",
     "text": [
      "Epoch 5: Loss = 0.0000\n"
     ]
    },
    {
     "name": "stderr",
     "output_type": "stream",
     "text": [
      "Training:  20%|█████████████▌                                                      | 6/30 [1:08:50<4:35:07, 687.82s/it]"
     ]
    },
    {
     "name": "stdout",
     "output_type": "stream",
     "text": [
      "Epoch 6: Loss = 0.0000\n"
     ]
    },
    {
     "name": "stderr",
     "output_type": "stream",
     "text": [
      "Training:  23%|███████████████▊                                                    | 7/30 [1:20:15<4:23:19, 686.94s/it]"
     ]
    },
    {
     "name": "stdout",
     "output_type": "stream",
     "text": [
      "Epoch 7: Loss = 0.0000\n"
     ]
    },
    {
     "name": "stderr",
     "output_type": "stream",
     "text": [
      "Training:  27%|██████████████████▏                                                 | 8/30 [1:31:43<4:11:59, 687.24s/it]"
     ]
    },
    {
     "name": "stdout",
     "output_type": "stream",
     "text": [
      "Epoch 8: Loss = 0.0000\n"
     ]
    },
    {
     "name": "stderr",
     "output_type": "stream",
     "text": [
      "Training:  30%|████████████████████▍                                               | 9/30 [1:43:16<4:01:11, 689.13s/it]"
     ]
    },
    {
     "name": "stdout",
     "output_type": "stream",
     "text": [
      "Epoch 9: Loss = 0.0000\n"
     ]
    },
    {
     "name": "stderr",
     "output_type": "stream",
     "text": [
      "Training:  33%|██████████████████████▎                                            | 10/30 [1:54:42<3:49:25, 688.26s/it]"
     ]
    },
    {
     "name": "stdout",
     "output_type": "stream",
     "text": [
      "Epoch 10: Loss = 0.0000\n"
     ]
    },
    {
     "name": "stderr",
     "output_type": "stream",
     "text": [
      "Training:  37%|████████████████████████▌                                          | 11/30 [2:06:08<3:37:43, 687.54s/it]"
     ]
    },
    {
     "name": "stdout",
     "output_type": "stream",
     "text": [
      "Epoch 11: Loss = 0.0000\n"
     ]
    },
    {
     "name": "stderr",
     "output_type": "stream",
     "text": [
      "Training:  40%|██████████████████████████▊                                        | 12/30 [2:17:35<3:26:11, 687.30s/it]"
     ]
    },
    {
     "name": "stdout",
     "output_type": "stream",
     "text": [
      "Epoch 12: Loss = 0.0000\n"
     ]
    },
    {
     "name": "stderr",
     "output_type": "stream",
     "text": [
      "Training:  43%|█████████████████████████████                                      | 13/30 [2:29:02<3:14:40, 687.11s/it]"
     ]
    },
    {
     "name": "stdout",
     "output_type": "stream",
     "text": [
      "Epoch 13: Loss = 0.0000\n"
     ]
    },
    {
     "name": "stderr",
     "output_type": "stream",
     "text": [
      "Training:  47%|███████████████████████████████▎                                   | 14/30 [2:40:29<3:03:14, 687.13s/it]"
     ]
    },
    {
     "name": "stdout",
     "output_type": "stream",
     "text": [
      "Epoch 14: Loss = 0.0000\n"
     ]
    },
    {
     "name": "stderr",
     "output_type": "stream",
     "text": [
      "Training:  50%|█████████████████████████████████▌                                 | 15/30 [2:51:56<2:51:45, 687.00s/it]"
     ]
    },
    {
     "name": "stdout",
     "output_type": "stream",
     "text": [
      "Epoch 15: Loss = 0.0000\n"
     ]
    },
    {
     "name": "stderr",
     "output_type": "stream",
     "text": [
      "Training:  53%|███████████████████████████████████▋                               | 16/30 [3:03:26<2:40:33, 688.08s/it]"
     ]
    },
    {
     "name": "stdout",
     "output_type": "stream",
     "text": [
      "Epoch 16: Loss = 0.0000\n"
     ]
    },
    {
     "name": "stderr",
     "output_type": "stream",
     "text": [
      "Training:  57%|█████████████████████████████████████▉                             | 17/30 [3:14:54<2:29:03, 687.93s/it]"
     ]
    },
    {
     "name": "stdout",
     "output_type": "stream",
     "text": [
      "Epoch 17: Loss = 0.0000\n"
     ]
    },
    {
     "name": "stderr",
     "output_type": "stream",
     "text": [
      "Training:  60%|████████████████████████████████████████▏                          | 18/30 [3:26:20<2:17:30, 687.53s/it]"
     ]
    },
    {
     "name": "stdout",
     "output_type": "stream",
     "text": [
      "Epoch 18: Loss = 0.0000\n"
     ]
    },
    {
     "name": "stderr",
     "output_type": "stream",
     "text": [
      "Training:  63%|██████████████████████████████████████████▍                        | 19/30 [3:37:48<2:06:03, 687.58s/it]"
     ]
    },
    {
     "name": "stdout",
     "output_type": "stream",
     "text": [
      "Epoch 19: Loss = 0.0000\n"
     ]
    },
    {
     "name": "stderr",
     "output_type": "stream",
     "text": [
      "Training:  67%|████████████████████████████████████████████▋                      | 20/30 [3:49:16<1:54:35, 687.56s/it]"
     ]
    },
    {
     "name": "stdout",
     "output_type": "stream",
     "text": [
      "Epoch 20: Loss = 0.0000\n"
     ]
    },
    {
     "name": "stderr",
     "output_type": "stream",
     "text": [
      "Training:  70%|██████████████████████████████████████████████▉                    | 21/30 [4:00:43<1:43:07, 687.47s/it]"
     ]
    },
    {
     "name": "stdout",
     "output_type": "stream",
     "text": [
      "Epoch 21: Loss = 0.0000\n"
     ]
    },
    {
     "name": "stderr",
     "output_type": "stream",
     "text": [
      "Training:  73%|█████████████████████████████████████████████████▏                 | 22/30 [4:12:10<1:31:39, 687.47s/it]"
     ]
    },
    {
     "name": "stdout",
     "output_type": "stream",
     "text": [
      "Epoch 22: Loss = 0.0000\n"
     ]
    },
    {
     "name": "stderr",
     "output_type": "stream",
     "text": [
      "Training:  77%|███████████████████████████████████████████████████▎               | 23/30 [4:23:38<1:20:12, 687.48s/it]"
     ]
    },
    {
     "name": "stdout",
     "output_type": "stream",
     "text": [
      "Epoch 23: Loss = 0.0000\n"
     ]
    },
    {
     "name": "stderr",
     "output_type": "stream",
     "text": [
      "Training:  80%|█████████████████████████████████████████████████████▌             | 24/30 [4:35:05<1:08:44, 687.35s/it]"
     ]
    },
    {
     "name": "stdout",
     "output_type": "stream",
     "text": [
      "Epoch 24: Loss = 0.0000\n"
     ]
    },
    {
     "name": "stderr",
     "output_type": "stream",
     "text": [
      "Training:  83%|█████████████████████████████████████████████████████████▌           | 25/30 [4:46:33<57:17, 687.47s/it]"
     ]
    },
    {
     "name": "stdout",
     "output_type": "stream",
     "text": [
      "Epoch 25: Loss = 0.0000\n"
     ]
    },
    {
     "name": "stderr",
     "output_type": "stream",
     "text": [
      "Training:  87%|███████████████████████████████████████████████████████████▊         | 26/30 [4:58:01<45:50, 687.69s/it]"
     ]
    },
    {
     "name": "stdout",
     "output_type": "stream",
     "text": [
      "Epoch 26: Loss = 0.0000\n"
     ]
    },
    {
     "name": "stderr",
     "output_type": "stream",
     "text": [
      "Training:  90%|██████████████████████████████████████████████████████████████       | 27/30 [5:09:29<34:23, 687.94s/it]"
     ]
    },
    {
     "name": "stdout",
     "output_type": "stream",
     "text": [
      "Epoch 27: Loss = 0.0000\n"
     ]
    },
    {
     "name": "stderr",
     "output_type": "stream",
     "text": [
      "Training:  93%|████████████████████████████████████████████████████████████████▍    | 28/30 [5:20:56<22:55, 687.59s/it]"
     ]
    },
    {
     "name": "stdout",
     "output_type": "stream",
     "text": [
      "Epoch 28: Loss = 0.0000\n"
     ]
    },
    {
     "name": "stderr",
     "output_type": "stream",
     "text": [
      "Training:  97%|██████████████████████████████████████████████████████████████████▋  | 29/30 [5:32:24<11:27, 687.59s/it]"
     ]
    },
    {
     "name": "stdout",
     "output_type": "stream",
     "text": [
      "Epoch 29: Loss = 0.0000\n"
     ]
    },
    {
     "name": "stderr",
     "output_type": "stream",
     "text": [
      "Training: 100%|█████████████████████████████████████████████████████████████████████| 30/30 [5:43:51<00:00, 687.72s/it]"
     ]
    },
    {
     "name": "stdout",
     "output_type": "stream",
     "text": [
      "Epoch 30: Loss = 0.0000\n",
      "✅ Y_bkg model saved.\n"
     ]
    },
    {
     "name": "stderr",
     "output_type": "stream",
     "text": [
      "\n"
     ]
    }
   ],
   "source": [
    "# === TRAIN Y_bkg ===\n",
    "ybkg_model = YBkgModel().to(device)\n",
    "opt_bkg = optim.AdamW(ybkg_model.parameters(), lr=1e-4)\n",
    "train_model(ybkg_model, train_loader_bkg, nn.BCELoss(), opt_bkg)\n",
    "torch.save(ybkg_model.state_dict(), \"ybkg_model.pth\")\n",
    "print(\"✅ Y_bkg model saved.\")"
   ]
  },
  {
   "cell_type": "code",
   "execution_count": null,
   "id": "6d1afa19-3c00-48b7-b5d3-2db8a912d249",
   "metadata": {},
   "outputs": [],
   "source": [
    "# ✅ Load trained models\n",
    "model_ang = YangModel().to(device)\n",
    "#model_bkg = YBkgModel().to(device)\n",
    "model_ang.load_state_dict(torch.load(\"yang_model.pth\"))\n",
    "#model_bkg.load_state_dict(torch.load(\"ybkg_model.pth\"))"
   ]
  },
  {
   "cell_type": "code",
   "execution_count": null,
   "id": "ecc03417-8dfb-4e2f-8df9-08b28e252fb7",
   "metadata": {},
   "outputs": [],
   "source": [
    "# ✅ Extract feature vectors\n",
    "def extract_feature_vectors(model, dataloader, save_name):\n",
    "    model.eval()\n",
    "    features = []\n",
    "\n",
    "    with torch.no_grad():\n",
    "        for inputs, _ in dataloader:\n",
    "            inputs = inputs.to(device)\n",
    "            feature_vecs = model(inputs, extract_features=True)\n",
    "            features.append(feature_vecs.cpu().numpy())\n",
    "\n",
    "    features = np.vstack(features)\n",
    "    np.save(f\"{save_name}.npy\", features)\n",
    "    pd.DataFrame(features).to_csv(f\"{save_name}.csv\", index=False)\n",
    "\n",
    "    print(f\"✅ Feature vectors saved: {save_name}\")"
   ]
  },
  {
   "cell_type": "code",
   "execution_count": null,
   "id": "cba85bc3-06ec-4b90-809b-ce5cb98cd22c",
   "metadata": {
    "tags": []
   },
   "outputs": [],
   "source": [
    "# ✅ Save extracted feature vectors\n",
    "extract_feature_vectors(model_ang, train_loader_ang, \"y_ang_features_updated_test\")\n",
    "#extract_feature_vectors(model_bkg, train_loader_bkg, \"y_bkg_features_updated_test\")"
   ]
  },
  {
   "cell_type": "code",
   "execution_count": null,
   "id": "99a2352b-590a-48a1-927a-122bf289b9d3",
   "metadata": {},
   "outputs": [],
   "source": []
  }
 ],
 "metadata": {
  "kernelspec": {
   "display_name": "Python 3 (ipykernel)",
   "language": "python",
   "name": "python3"
  },
  "language_info": {
   "codemirror_mode": {
    "name": "ipython",
    "version": 3
   },
   "file_extension": ".py",
   "mimetype": "text/x-python",
   "name": "python",
   "nbconvert_exporter": "python",
   "pygments_lexer": "ipython3",
   "version": "3.11.5"
  }
 },
 "nbformat": 4,
 "nbformat_minor": 5
}
